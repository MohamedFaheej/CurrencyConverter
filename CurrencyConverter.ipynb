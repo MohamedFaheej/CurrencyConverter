{
  "nbformat": 4,
  "nbformat_minor": 0,
  "metadata": {
    "colab": {
      "provenance": []
    },
    "kernelspec": {
      "name": "python3",
      "display_name": "Python 3"
    },
    "language_info": {
      "name": "python"
    }
  },
  "cells": [
    {
      "cell_type": "code",
      "execution_count": 2,
      "metadata": {
        "colab": {
          "base_uri": "https://localhost:8080/"
        },
        "id": "YG4eqPoaB5dD",
        "outputId": "216f6c25-f1de-464c-afb1-bbd46f3304c5"
      },
      "outputs": [
        {
          "output_type": "stream",
          "name": "stdout",
          "text": [
            "Enter the amount to convert: 250\n",
            "Enter the source currency (e.g., USD): INR\n",
            "Enter the target currency (e.g., EUR): USD\n",
            "250.0 INR is equal to 3.00 USD\n"
          ]
        }
      ],
      "source": [
        "import requests\n",
        "\n",
        "def get_exchange_rates(api_key):\n",
        "    url = f\"https://v6.exchangerate-api.com/v6/{api_key}/latest/USD\"\n",
        "    response = requests.get(url)\n",
        "    data = response.json()\n",
        "    if response.status_code == 200:\n",
        "        return data['conversion_rates']\n",
        "    else:\n",
        "        raise Exception(f\"Error fetching exchange rates: {data.get('error-type')}\")\n",
        "\n",
        "def convert_currency(amount, from_currency, to_currency, rates):\n",
        "    if from_currency != 'USD':\n",
        "        amount = amount / rates[from_currency]\n",
        "    return amount * rates[to_currency]\n",
        "\n",
        "def main():\n",
        "    api_key = 'f0e1d0025f46429dbdb6945c'\n",
        "    try:\n",
        "        rates = get_exchange_rates(api_key)\n",
        "    except Exception as e:\n",
        "        print(e)\n",
        "        return\n",
        "\n",
        "    amount = float(input(\"Enter the amount to convert: \"))\n",
        "    from_currency = input(\"Enter the source currency : \").upper()\n",
        "    to_currency = input(\"Enter the target currency : \").upper()\n",
        "\n",
        "    if from_currency not in rates or to_currency not in rates:\n",
        "        print(\"Invalid currency code. Please try again.\")\n",
        "        return\n",
        "\n",
        "    converted_amount = convert_currency(amount, from_currency, to_currency, rates)\n",
        "    print(f\"{amount} {from_currency} is equal to {converted_amount:.2f} {to_currency}\")\n",
        "\n",
        "if __name__ == \"__main__\":\n",
        "    main()\n"
      ]
    }
  ]
}