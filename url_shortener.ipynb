{
  "cells": [
    {
      "cell_type": "code",
      "execution_count": null,
      "metadata": {
        "colab": {
          "base_uri": "https://localhost:8080/"
        },
        "id": "6bWPGo5wxcbv",
        "outputId": "6368c5ec-bdf4-478f-af45-4f5e2261051c"
      },
      "outputs": [
        {
          "output_type": "stream",
          "name": "stdout",
          "text": [
            "Requirement already satisfied: django in /usr/local/lib/python3.10/dist-packages (5.0.6)\n",
            "Requirement already satisfied: asgiref<4,>=3.7.0 in /usr/local/lib/python3.10/dist-packages (from django) (3.8.1)\n",
            "Requirement already satisfied: sqlparse>=0.3.1 in /usr/local/lib/python3.10/dist-packages (from django) (0.5.0)\n",
            "Requirement already satisfied: typing-extensions>=4 in /usr/local/lib/python3.10/dist-packages (from asgiref<4,>=3.7.0->django) (4.11.0)\n",
            "/content/url_shortener_project/url_shortener/url_shortener_project/url_shortener/url_shortener_project\n",
            "/content/url_shortener_project/url_shortener/url_shortener_project/url_shortener/url_shortener_project/url_shortener\n"
          ]
        },
        {
          "output_type": "stream",
          "name": "stderr",
          "text": [
            "UsageError: Line magic function `%%writefile` not found.\n"
          ]
        }
      ],
      "source": [
        "# Install Django\n",
        "!pip install django\n",
        "\n",
        "# Create a new Django project\n",
        "!django-admin startproject url_shortener_project\n",
        "\n",
        "# Change directory to the project folder\n",
        "%cd url_shortener_project\n",
        "\n",
        "# Create a new Django app\n",
        "!python manage.py startapp url_shortener\n",
        "\n",
        "# Change directory to the app folder\n",
        "%cd url_shortener\n",
        "\n",
        "# Create models.py\n",
        "%%writefile models.py\n",
        "from django.db import models\n",
        "from django.contrib.auth.models import User\n",
        "\n",
        "class URL(models.Model):\n",
        "    original_url = models.URLField()\n",
        "    short_url = models.CharField(max_length=20, unique=True)\n",
        "    created_at = models.DateTimeField(auto_now_add=True)\n",
        "    user = models.ForeignKey(User, on_delete=models.CASCADE)\n",
        "\n",
        "class Click(models.Model):\n",
        "    url = models.ForeignKey(URL, on_delete=models.CASCADE)\n",
        "    timestamp = models.DateTimeField(auto_now_add=True)\n",
        "    ip_address = models.CharField(max_length=45)\n",
        "    referer = models.URLField(blank=True, null=True)\n",
        "\n",
        "# Create views.py\n",
        "%%writefile views.py\n",
        "from django.shortcuts import render, redirect\n",
        "from django.contrib.auth.decorators import login_required\n",
        "from .models import URL, Click\n",
        "from django.http import HttpResponse\n",
        "\n",
        "def shorten_url(request):\n",
        "    if request.method == 'POST':\n",
        "        original_url = request.POST.get('original_url')\n",
        "        short_url = generate_short_url()  # Implement your shortening algorithm\n",
        "        user = request.user if request.user.is_authenticated else None\n",
        "        url = URL.objects.create(original_url=original_url, short_url=short_url, user=user)\n",
        "        return HttpResponse(short_url)\n",
        "    return render(request, 'shorten.html')\n",
        "\n",
        "@login_required\n",
        "def analytics(request, short_url):\n",
        "    url = URL.objects.get(short_url=short_url)\n",
        "    clicks = Click.objects.filter(url=url)\n",
        "    return render(request, 'analytics.html', {'url': url, 'clicks': clicks})\n",
        "\n",
        "def redirect_to_original_url(request, short_url):\n",
        "    url = URL.objects.get(short_url=short_url)\n",
        "    Click.objects.create(url=url, ip_address=request.META.get('REMOTE_ADDR'), referer=request.META.get('HTTP_REFERER'))\n",
        "    return redirect(url.original_url)\n",
        "\n",
        "# Create urls.py\n",
        "%%writefile urls.py\n",
        "from django.urls import path\n",
        "from . import views\n",
        "\n",
        "urlpatterns = [\n",
        "    path('', views.shorten_url, name='shorten_url'),\n",
        "    path('<str:short_url>/', views.redirect_to_original_url, name='redirect_to_original_url'),\n",
        "    path('<str:short_url>/analytics/', views.analytics, name='analytics'),\n",
        "    # Add other URLs for authentication, registration, etc.\n",
        "]\n"
      ]
    }
  ],
  "metadata": {
    "colab": {
      "provenance": []
    },
    "kernelspec": {
      "display_name": "Python 3",
      "name": "python3"
    },
    "language_info": {
      "name": "python"
    }
  },
  "nbformat": 4,
  "nbformat_minor": 0
}